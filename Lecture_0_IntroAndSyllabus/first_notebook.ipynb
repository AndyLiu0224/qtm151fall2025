{
 "cells": [
  {
   "cell_type": "markdown",
   "id": "7b99c126",
   "metadata": {},
   "source": [
    "# <span style=\"color:darkgreen\"> This is my first Jupyter notebook </span>"
   ]
  },
  {
   "cell_type": "code",
   "execution_count": null,
   "id": "209083a8",
   "metadata": {
    "vscode": {
     "languageId": "plaintext"
    }
   },
   "outputs": [],
   "source": []
  }
 ],
 "metadata": {
  "language_info": {
   "name": "python"
  }
 },
 "nbformat": 4,
 "nbformat_minor": 5
}
