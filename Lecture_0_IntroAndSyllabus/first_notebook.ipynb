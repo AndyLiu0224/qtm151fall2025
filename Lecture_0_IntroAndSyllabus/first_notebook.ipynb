{
 "cells": [
  {
   "cell_type": "markdown",
   "id": "7b99c126",
   "metadata": {},
   "source": [
    "# <span style=\"color:darkgreen\"> This is my first Jupyter notebook </span>"
   ]
  }
 ],
 "metadata": {
  "language_info": {
   "name": "python"
  }
 },
 "nbformat": 4,
 "nbformat_minor": 5
}
